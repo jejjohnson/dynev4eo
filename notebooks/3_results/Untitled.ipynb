{
 "cells": [
  {
   "cell_type": "code",
   "execution_count": 2,
   "id": "809ea3f8-a4e2-4fbf-a831-447da5d44504",
   "metadata": {},
   "outputs": [],
   "source": [
    "import os\n",
    "os.environ[\"CUDA_VISIBLE_DEVICES\"] = \"\" # first gpu\n",
    "os.environ['XLA_PYTHON_CLIENT_PREALLOCATE'] = 'FALSE'\n",
    "\n",
    "import jax\n",
    "jax.config.update('jax_platform_name', 'cpu')\n",
    "\n",
    "import numpyro\n",
    "numpyro.set_platform(\"cpu\")"
   ]
  },
  {
   "cell_type": "code",
   "execution_count": 3,
   "id": "041855c4-ab9a-4cf7-aa43-6131d9420edb",
   "metadata": {},
   "outputs": [],
   "source": [
    "import geopandas as gpd"
   ]
  },
  {
   "cell_type": "code",
   "execution_count": 4,
   "id": "85304b8c-c113-45f0-8302-601db185874b",
   "metadata": {},
   "outputs": [],
   "source": [
    "res_1 = gpd.read_file(\"/home/juanjohn/pool_data/dynev4eo/data/results/prev_results/param_p95.geojson\")"
   ]
  },
  {
   "cell_type": "code",
   "execution_count": 12,
   "id": "9e5e20cb-281d-46a8-b0bf-cae2cc6d7744",
   "metadata": {},
   "outputs": [
    {
     "data": {
      "text/html": [
       "<div>\n",
       "<style scoped>\n",
       "    .dataframe tbody tr th:only-of-type {\n",
       "        vertical-align: middle;\n",
       "    }\n",
       "\n",
       "    .dataframe tbody tr th {\n",
       "        vertical-align: top;\n",
       "    }\n",
       "\n",
       "    .dataframe thead th {\n",
       "        text-align: right;\n",
       "    }\n",
       "</style>\n",
       "<table border=\"1\" class=\"dataframe\">\n",
       "  <thead>\n",
       "    <tr style=\"text-align: right;\">\n",
       "      <th></th>\n",
       "      <th>id</th>\n",
       "      <th>lambda_1</th>\n",
       "      <th>lambda_2</th>\n",
       "      <th>beta_b0</th>\n",
       "      <th>beta_b1</th>\n",
       "      <th>alpha</th>\n",
       "      <th>kappa</th>\n",
       "      <th>dtest</th>\n",
       "      <th>name</th>\n",
       "      <th>alt</th>\n",
       "      <th>prov</th>\n",
       "      <th>geometry</th>\n",
       "    </tr>\n",
       "  </thead>\n",
       "  <tbody>\n",
       "    <tr>\n",
       "      <th>1</th>\n",
       "      <td>0016B</td>\n",
       "      <td>2.483333</td>\n",
       "      <td>0.872483</td>\n",
       "      <td>32.198287</td>\n",
       "      <td>1.731857</td>\n",
       "      <td>1.394491</td>\n",
       "      <td>-0.079243</td>\n",
       "      <td>1</td>\n",
       "      <td>REUS (CENTRE LECTURA)</td>\n",
       "      <td>118</td>\n",
       "      <td>TARRAGONA</td>\n",
       "      <td>POINT (1.10752 41.15237)</td>\n",
       "    </tr>\n",
       "  </tbody>\n",
       "</table>\n",
       "</div>"
      ],
      "text/plain": [
       "      id  lambda_1  lambda_2    beta_b0   beta_b1     alpha     kappa  dtest  \\\n",
       "1  0016B  2.483333  0.872483  32.198287  1.731857  1.394491 -0.079243      1   \n",
       "\n",
       "                    name  alt       prov                  geometry  \n",
       "1  REUS (CENTRE LECTURA)  118  TARRAGONA  POINT (1.10752 41.15237)  "
      ]
     },
     "execution_count": 12,
     "metadata": {},
     "output_type": "execute_result"
    }
   ],
   "source": [
    "res_1[res_1[\"id\"] == \"0016B\"]"
   ]
  },
  {
   "cell_type": "code",
   "execution_count": null,
   "id": "f2f59189-d7e4-42c6-bee7-e5f2535e059c",
   "metadata": {},
   "outputs": [],
   "source": []
  }
 ],
 "metadata": {
  "kernelspec": {
   "display_name": "Python [conda env:dynev4eo_gpu]",
   "language": "python",
   "name": "conda-env-dynev4eo_gpu-py"
  },
  "language_info": {
   "codemirror_mode": {
    "name": "ipython",
    "version": 3
   },
   "file_extension": ".py",
   "mimetype": "text/x-python",
   "name": "python",
   "nbconvert_exporter": "python",
   "pygments_lexer": "ipython3",
   "version": "3.10.14"
  }
 },
 "nbformat": 4,
 "nbformat_minor": 5
}
